{
 "cells": [
  {
   "cell_type": "markdown",
   "id": "a705f3a2",
   "metadata": {},
   "source": [
    "# Step 1: Build ML Dataset\n",
    "\n",
    "This notebook extracts FFT features from all images and creates a CSV dataset for machine learning.\n",
    "\n",
    "## What We'll Do:\n",
    "1. Load all damaged and undamaged images\n",
    "2. Extract 12 FFT features from each image\n",
    "3. Label them (damaged=1, undamaged=0)\n",
    "4. Save to CSV file\n",
    "\n",
    "## Why These Features?\n",
    "- **Statistical features (mean, std, skewness, kurtosis)**: Capture overall distribution\n",
    "- **Frequency bands (low, high, ratio)**: Identify noise vs content\n",
    "- **Radial profile**: Track how frequencies change from center to edge\n",
    "\n",
    "**Damaged images** typically have:\n",
    "- Higher high-frequency energy (scratches, noise)\n",
    "- Higher energy ratio (more noise relative to signal)\n",
    "- Irregular radial profile"
   ]
  },
  {
   "cell_type": "markdown",
   "id": "6fa64663",
   "metadata": {},
   "source": [
    "## Setup"
   ]
  },
  {
   "cell_type": "code",
   "execution_count": 1,
   "id": "e0749aef",
   "metadata": {},
   "outputs": [
    {
     "name": "stdout",
     "output_type": "stream",
     "text": [
      "✓ Imports successful!\n",
      "Project root: d:\\R&D Project\\image_processing\n"
     ]
    }
   ],
   "source": [
    "import os\n",
    "import sys\n",
    "import pandas as pd\n",
    "import numpy as np\n",
    "from tqdm import tqdm\n",
    "\n",
    "# Add project root to path\n",
    "project_root = os.path.abspath(os.path.join(os.getcwd(), '..'))\n",
    "sys.path.insert(0, project_root)\n",
    "\n",
    "# Import our feature extractor\n",
    "from src.ml.feature_extractor import extract_ml_features\n",
    "\n",
    "print(\"✓ Imports successful!\")\n",
    "print(f\"Project root: {project_root}\")"
   ]
  },
  {
   "cell_type": "markdown",
   "id": "6490f335",
   "metadata": {},
   "source": [
    "## Define Paths"
   ]
  },
  {
   "cell_type": "code",
   "execution_count": 2,
   "id": "4e3378f4",
   "metadata": {},
   "outputs": [
    {
     "name": "stdout",
     "output_type": "stream",
     "text": [
      "Damaged directory exists: True\n",
      "Undamaged directory exists: True\n",
      "\n",
      "Found 114 damaged images\n",
      "Found 114 undamaged images\n",
      "Total: 228 images\n"
     ]
    }
   ],
   "source": [
    "# Dataset paths\n",
    "data_path = os.path.join(project_root, \"data/raw/AI_for_Art_Restoration_2/paired_dataset_art\")\n",
    "damaged_dir = os.path.join(data_path, \"damaged\")\n",
    "undamaged_dir = os.path.join(data_path, \"undamaged\")\n",
    "\n",
    "# Output path\n",
    "output_dir = os.path.join(project_root, \"data/processed\")\n",
    "os.makedirs(output_dir, exist_ok=True)\n",
    "output_csv = os.path.join(output_dir, \"fft_features.csv\")\n",
    "\n",
    "# Check if directories exist\n",
    "print(f\"Damaged directory exists: {os.path.exists(damaged_dir)}\")\n",
    "print(f\"Undamaged directory exists: {os.path.exists(undamaged_dir)}\")\n",
    "\n",
    "# Count files\n",
    "damaged_files = [f for f in os.listdir(damaged_dir) if f.endswith(('.jpg', '.png', '.jpeg'))]\n",
    "undamaged_files = [f for f in os.listdir(undamaged_dir) if f.endswith(('.jpg', '.png', '.jpeg'))]\n",
    "\n",
    "print(f\"\\nFound {len(damaged_files)} damaged images\")\n",
    "print(f\"Found {len(undamaged_files)} undamaged images\")\n",
    "print(f\"Total: {len(damaged_files) + len(undamaged_files)} images\")"
   ]
  },
  {
   "cell_type": "markdown",
   "id": "7f9fd873",
   "metadata": {},
   "source": [
    "## Extract Features from All Images\n",
    "\n",
    "This will take a few minutes depending on how many images you have.\n",
    "\n",
    "**What's happening:**\n",
    "- Loop through each image\n",
    "- Apply FFT transform\n",
    "- Extract 12 features\n",
    "- Store in list with label"
   ]
  },
  {
   "cell_type": "code",
   "execution_count": 3,
   "id": "ab991c7b",
   "metadata": {},
   "outputs": [
    {
     "name": "stdout",
     "output_type": "stream",
     "text": [
      "Processing damaged images...\n"
     ]
    },
    {
     "name": "stderr",
     "output_type": "stream",
     "text": [
      "100%|██████████| 114/114 [00:46<00:00,  2.46it/s]\n",
      "100%|██████████| 114/114 [00:46<00:00,  2.46it/s]\n"
     ]
    },
    {
     "name": "stdout",
     "output_type": "stream",
     "text": [
      "\n",
      "Processing undamaged images...\n"
     ]
    },
    {
     "name": "stderr",
     "output_type": "stream",
     "text": [
      "100%|██████████| 114/114 [00:45<00:00,  2.53it/s]"
     ]
    },
    {
     "name": "stdout",
     "output_type": "stream",
     "text": [
      "\n",
      "✓ Successfully processed 228 images\n"
     ]
    },
    {
     "name": "stderr",
     "output_type": "stream",
     "text": [
      "\n"
     ]
    }
   ],
   "source": [
    "# Lists to store features and labels\n",
    "all_features = []\n",
    "all_labels = []\n",
    "all_filenames = []\n",
    "feature_names = None\n",
    "\n",
    "print(\"Processing damaged images...\")\n",
    "for filename in tqdm(damaged_files):\n",
    "    try:\n",
    "        path = os.path.join(damaged_dir, filename)\n",
    "        features, names = extract_ml_features(path)\n",
    "        \n",
    "        all_features.append(features)\n",
    "        all_labels.append(1)  # 1 = damaged\n",
    "        all_filenames.append(filename)\n",
    "        \n",
    "        if feature_names is None:\n",
    "            feature_names = names\n",
    "            \n",
    "    except Exception as e:\n",
    "        print(f\"Error processing {filename}: {e}\")\n",
    "\n",
    "print(\"\\nProcessing undamaged images...\")\n",
    "for filename in tqdm(undamaged_files):\n",
    "    try:\n",
    "        path = os.path.join(undamaged_dir, filename)\n",
    "        features, names = extract_ml_features(path)\n",
    "        \n",
    "        all_features.append(features)\n",
    "        all_labels.append(0)  # 0 = undamaged\n",
    "        all_filenames.append(filename)\n",
    "        \n",
    "    except Exception as e:\n",
    "        print(f\"Error processing {filename}: {e}\")\n",
    "\n",
    "print(f\"\\n✓ Successfully processed {len(all_features)} images\")"
   ]
  },
  {
   "cell_type": "markdown",
   "id": "ba4fbea1",
   "metadata": {},
   "source": [
    "## Create DataFrame and Save to CSV"
   ]
  },
  {
   "cell_type": "code",
   "execution_count": 4,
   "id": "3da97d73",
   "metadata": {},
   "outputs": [
    {
     "name": "stdout",
     "output_type": "stream",
     "text": [
      "✓ Saved dataset to: d:\\R&D Project\\image_processing\\data/processed\\fft_features.csv\n",
      "\n",
      "Dataset shape: (228, 16)\n",
      "Features: 14\n",
      "Samples: 228\n"
     ]
    }
   ],
   "source": [
    "# Convert to DataFrame\n",
    "df = pd.DataFrame(all_features, columns=feature_names)\n",
    "df['label'] = all_labels\n",
    "df['filename'] = all_filenames\n",
    "\n",
    "# Reorder columns (put filename and label first)\n",
    "cols = ['filename', 'label'] + feature_names\n",
    "df = df[cols]\n",
    "\n",
    "# Save to CSV\n",
    "df.to_csv(output_csv, index=False)\n",
    "\n",
    "print(f\"✓ Saved dataset to: {output_csv}\")\n",
    "print(f\"\\nDataset shape: {df.shape}\")\n",
    "print(f\"Features: {len(feature_names)}\")\n",
    "print(f\"Samples: {len(df)}\")"
   ]
  },
  {
   "cell_type": "markdown",
   "id": "86f9c0fc",
   "metadata": {},
   "source": [
    "## Preview the Dataset"
   ]
  },
  {
   "cell_type": "code",
   "execution_count": 5,
   "id": "a48b143e",
   "metadata": {},
   "outputs": [
    {
     "name": "stdout",
     "output_type": "stream",
     "text": [
      "First 5 rows:\n"
     ]
    },
    {
     "data": {
      "text/html": [
       "<div>\n",
       "<style scoped>\n",
       "    .dataframe tbody tr th:only-of-type {\n",
       "        vertical-align: middle;\n",
       "    }\n",
       "\n",
       "    .dataframe tbody tr th {\n",
       "        vertical-align: top;\n",
       "    }\n",
       "\n",
       "    .dataframe thead th {\n",
       "        text-align: right;\n",
       "    }\n",
       "</style>\n",
       "<table border=\"1\" class=\"dataframe\">\n",
       "  <thead>\n",
       "    <tr style=\"text-align: right;\">\n",
       "      <th></th>\n",
       "      <th>filename</th>\n",
       "      <th>label</th>\n",
       "      <th>mean</th>\n",
       "      <th>std_dev</th>\n",
       "      <th>skewness</th>\n",
       "      <th>kurtosis</th>\n",
       "      <th>low_freq_energy</th>\n",
       "      <th>high_freq_energy</th>\n",
       "      <th>energy_ratio</th>\n",
       "      <th>radial_center</th>\n",
       "      <th>radial_25</th>\n",
       "      <th>radial_50</th>\n",
       "      <th>radial_75</th>\n",
       "      <th>radial_edge</th>\n",
       "      <th>color_balance_need</th>\n",
       "      <th>sharpening_need</th>\n",
       "    </tr>\n",
       "  </thead>\n",
       "  <tbody>\n",
       "    <tr>\n",
       "      <th>0</th>\n",
       "      <td>1.png</td>\n",
       "      <td>1</td>\n",
       "      <td>172.078791</td>\n",
       "      <td>24.651689</td>\n",
       "      <td>0.419049</td>\n",
       "      <td>0.405692</td>\n",
       "      <td>282.272820</td>\n",
       "      <td>172.033401</td>\n",
       "      <td>0.609458</td>\n",
       "      <td>418.130939</td>\n",
       "      <td>214.490409</td>\n",
       "      <td>198.176288</td>\n",
       "      <td>178.011499</td>\n",
       "      <td>163.603976</td>\n",
       "      <td>0.077168</td>\n",
       "      <td>0.405136</td>\n",
       "    </tr>\n",
       "    <tr>\n",
       "      <th>1</th>\n",
       "      <td>10.png</td>\n",
       "      <td>1</td>\n",
       "      <td>170.703457</td>\n",
       "      <td>18.225493</td>\n",
       "      <td>0.014498</td>\n",
       "      <td>1.529401</td>\n",
       "      <td>219.883419</td>\n",
       "      <td>170.090076</td>\n",
       "      <td>0.773547</td>\n",
       "      <td>350.153997</td>\n",
       "      <td>194.418368</td>\n",
       "      <td>178.976622</td>\n",
       "      <td>173.541926</td>\n",
       "      <td>166.637158</td>\n",
       "      <td>0.077604</td>\n",
       "      <td>0.000000</td>\n",
       "    </tr>\n",
       "    <tr>\n",
       "      <th>2</th>\n",
       "      <td>100.png</td>\n",
       "      <td>1</td>\n",
       "      <td>144.019931</td>\n",
       "      <td>21.890683</td>\n",
       "      <td>0.278796</td>\n",
       "      <td>1.180011</td>\n",
       "      <td>187.940305</td>\n",
       "      <td>142.386107</td>\n",
       "      <td>0.757613</td>\n",
       "      <td>324.060618</td>\n",
       "      <td>174.719671</td>\n",
       "      <td>160.692192</td>\n",
       "      <td>151.347043</td>\n",
       "      <td>138.558214</td>\n",
       "      <td>0.412804</td>\n",
       "      <td>0.000000</td>\n",
       "    </tr>\n",
       "    <tr>\n",
       "      <th>3</th>\n",
       "      <td>101.jpg</td>\n",
       "      <td>1</td>\n",
       "      <td>135.630466</td>\n",
       "      <td>26.014150</td>\n",
       "      <td>0.708370</td>\n",
       "      <td>0.983259</td>\n",
       "      <td>208.361504</td>\n",
       "      <td>134.742889</td>\n",
       "      <td>0.646678</td>\n",
       "      <td>340.211703</td>\n",
       "      <td>177.165557</td>\n",
       "      <td>160.283772</td>\n",
       "      <td>140.546631</td>\n",
       "      <td>127.639632</td>\n",
       "      <td>0.124929</td>\n",
       "      <td>0.000000</td>\n",
       "    </tr>\n",
       "    <tr>\n",
       "      <th>4</th>\n",
       "      <td>102.jpg</td>\n",
       "      <td>1</td>\n",
       "      <td>147.370054</td>\n",
       "      <td>26.402196</td>\n",
       "      <td>0.469758</td>\n",
       "      <td>0.694385</td>\n",
       "      <td>220.423909</td>\n",
       "      <td>146.272710</td>\n",
       "      <td>0.663597</td>\n",
       "      <td>346.065468</td>\n",
       "      <td>194.342055</td>\n",
       "      <td>169.853374</td>\n",
       "      <td>150.250020</td>\n",
       "      <td>137.117490</td>\n",
       "      <td>0.067642</td>\n",
       "      <td>0.178267</td>\n",
       "    </tr>\n",
       "  </tbody>\n",
       "</table>\n",
       "</div>"
      ],
      "text/plain": [
       "  filename  label        mean    std_dev  skewness  kurtosis  low_freq_energy  \\\n",
       "0    1.png      1  172.078791  24.651689  0.419049  0.405692       282.272820   \n",
       "1   10.png      1  170.703457  18.225493  0.014498  1.529401       219.883419   \n",
       "2  100.png      1  144.019931  21.890683  0.278796  1.180011       187.940305   \n",
       "3  101.jpg      1  135.630466  26.014150  0.708370  0.983259       208.361504   \n",
       "4  102.jpg      1  147.370054  26.402196  0.469758  0.694385       220.423909   \n",
       "\n",
       "   high_freq_energy  energy_ratio  radial_center   radial_25   radial_50  \\\n",
       "0        172.033401      0.609458     418.130939  214.490409  198.176288   \n",
       "1        170.090076      0.773547     350.153997  194.418368  178.976622   \n",
       "2        142.386107      0.757613     324.060618  174.719671  160.692192   \n",
       "3        134.742889      0.646678     340.211703  177.165557  160.283772   \n",
       "4        146.272710      0.663597     346.065468  194.342055  169.853374   \n",
       "\n",
       "    radial_75  radial_edge  color_balance_need  sharpening_need  \n",
       "0  178.011499   163.603976            0.077168         0.405136  \n",
       "1  173.541926   166.637158            0.077604         0.000000  \n",
       "2  151.347043   138.558214            0.412804         0.000000  \n",
       "3  140.546631   127.639632            0.124929         0.000000  \n",
       "4  150.250020   137.117490            0.067642         0.178267  "
      ]
     },
     "metadata": {},
     "output_type": "display_data"
    },
    {
     "name": "stdout",
     "output_type": "stream",
     "text": [
      "\n",
      "Label distribution:\n",
      "label\n",
      "1    114\n",
      "0    114\n",
      "Name: count, dtype: int64\n",
      "\n",
      "0 = Undamaged: 114 images\n",
      "1 = Damaged: 114 images\n"
     ]
    }
   ],
   "source": [
    "# Show first few rows\n",
    "print(\"First 5 rows:\")\n",
    "display(df.head())\n",
    "\n",
    "# Show label distribution\n",
    "print(\"\\nLabel distribution:\")\n",
    "print(df['label'].value_counts())\n",
    "print(f\"\\n0 = Undamaged: {(df['label']==0).sum()} images\")\n",
    "print(f\"1 = Damaged: {(df['label']==1).sum()} images\")"
   ]
  },
  {
   "cell_type": "markdown",
   "id": "5800cfdc",
   "metadata": {},
   "source": [
    "## Basic Statistics\n",
    "\n",
    "Let's see if damaged and undamaged images have different feature values."
   ]
  },
  {
   "cell_type": "code",
   "execution_count": 6,
   "id": "b670ded2",
   "metadata": {},
   "outputs": [
    {
     "name": "stdout",
     "output_type": "stream",
     "text": [
      "Feature Comparison (Damaged vs Undamaged)\n",
      "======================================================================\n",
      "Feature               Damaged (mean)   Undamaged (mean)   Difference\n",
      "----------------------------------------------------------------------\n",
      "mean                        146.6168           144.9092       1.7075\n",
      "std_dev                      23.1671            23.4102      -0.2431\n",
      "skewness                      0.4080             0.5185      -0.1105\n",
      "kurtosis                      1.1539             1.3950      -0.2411\n",
      "low_freq_energy             208.0523           210.8120      -2.7597\n",
      "high_freq_energy            145.3979           143.5702       1.8277\n",
      "energy_ratio                  0.7030             0.6849       0.0180\n",
      "radial_center               337.8102           336.8703       0.9399\n",
      "radial_25                   184.5458           184.5513      -0.0056\n",
      "radial_50                   164.7903           163.0859       1.7044\n",
      "radial_75                   150.2588           147.8831       2.3757\n",
      "radial_edge                 139.3286           137.2868       2.0418\n",
      "color_balance_need            0.2114             0.2045       0.0068\n",
      "sharpening_need               0.1376             0.1709      -0.0333\n",
      "\n",
      "💡 Key Observations:\n",
      "   Look for features with large differences - these are most useful for classification!\n",
      "   Typically:\n",
      "   - high_freq_energy: Higher for damaged (scratches/noise)\n",
      "   - energy_ratio: Higher for damaged (more noise relative to signal)\n"
     ]
    }
   ],
   "source": [
    "# Compare damaged vs undamaged\n",
    "damaged_df = df[df['label'] == 1]\n",
    "undamaged_df = df[df['label'] == 0]\n",
    "\n",
    "print(\"Feature Comparison (Damaged vs Undamaged)\")\n",
    "print(\"=\" * 70)\n",
    "print(f\"{'Feature':<20} {'Damaged (mean)':>15} {'Undamaged (mean)':>18} {'Difference':>12}\")\n",
    "print(\"-\" * 70)\n",
    "\n",
    "for feature in feature_names:\n",
    "    damaged_mean = damaged_df[feature].mean()\n",
    "    undamaged_mean = undamaged_df[feature].mean()\n",
    "    diff = damaged_mean - undamaged_mean\n",
    "    \n",
    "    print(f\"{feature:<20} {damaged_mean:>15.4f} {undamaged_mean:>18.4f} {diff:>12.4f}\")\n",
    "\n",
    "print(\"\\n💡 Key Observations:\")\n",
    "print(\"   Look for features with large differences - these are most useful for classification!\")\n",
    "print(\"   Typically:\")\n",
    "print(\"   - high_freq_energy: Higher for damaged (scratches/noise)\")\n",
    "print(\"   - energy_ratio: Higher for damaged (more noise relative to signal)\")"
   ]
  },
  {
   "cell_type": "markdown",
   "id": "b7ea8829",
   "metadata": {},
   "source": [
    "## Visualize Feature Distributions"
   ]
  },
  {
   "cell_type": "code",
   "execution_count": 7,
   "id": "fbd5c935",
   "metadata": {},
   "outputs": [
    {
     "data": {
      "image/png": "[encoded data removed]",
      "text/plain": [
       "<Figure size 1500x1000 with 4 Axes>"
      ]
     },
     "metadata": {},
     "output_type": "display_data"
    },
    {
     "name": "stdout",
     "output_type": "stream",
     "text": [
      "\n",
      "💡 Interpretation:\n",
      "   - If histograms are well-separated → feature is good for classification\n",
      "   - If histograms overlap heavily → feature is less useful\n"
     ]
    }
   ],
   "source": [
    "import matplotlib.pyplot as plt\n",
    "\n",
    "# Plot distributions of key features\n",
    "fig, axes = plt.subplots(2, 2, figsize=(15, 10))\n",
    "fig.suptitle('Feature Distributions: Damaged vs Undamaged', fontsize=16)\n",
    "\n",
    "key_features = ['high_freq_energy', 'energy_ratio', 'low_freq_energy', 'std_dev']\n",
    "\n",
    "for idx, feature in enumerate(key_features):\n",
    "    ax = axes[idx // 2, idx % 2]\n",
    "    \n",
    "    ax.hist(damaged_df[feature], bins=30, alpha=0.5, label='Damaged', color='red')\n",
    "    ax.hist(undamaged_df[feature], bins=30, alpha=0.5, label='Undamaged', color='blue')\n",
    "    \n",
    "    ax.set_xlabel(feature)\n",
    "    ax.set_ylabel('Count')\n",
    "    ax.set_title(f'{feature} Distribution')\n",
    "    ax.legend()\n",
    "    ax.grid(alpha=0.3)\n",
    "\n",
    "plt.tight_layout()\n",
    "plt.show()\n",
    "\n",
    "print(\"\\n💡 Interpretation:\")\n",
    "print(\"   - If histograms are well-separated → feature is good for classification\")\n",
    "print(\"   - If histograms overlap heavily → feature is less useful\")"
   ]
  },
  {
   "cell_type": "markdown",
   "id": "92a02507",
   "metadata": {},
   "source": [
    "## Summary\n",
    "\n",
    "✅ **What We Accomplished:**\n",
    "1. Extracted 12 FFT features from all images\n",
    "2. Created labeled dataset (damaged=1, undamaged=0)\n",
    "3. Saved to CSV for ML training\n",
    "4. Visualized feature distributions\n",
    "\n",
    "📊 **Dataset Ready!**\n",
    "- File: `data/processed/fft_features.csv`\n",
    "- Features: 12 per image\n",
    "- Labels: Binary (damaged/undamaged)\n",
    "\n",
    "🎯 **Next Step:**\n",
    "Open notebook `2_train_classifier.ipynb` to train a machine learning model!"
   ]
  }
 ],
 "metadata": {
  "kernelspec": {
   "display_name": "venv (3.11.9)",
   "language": "python",
   "name": "python3"
  },
  "language_info": {
   "codemirror_mode": {
    "name": "ipython",
    "version": 3
   },
   "file_extension": ".py",
   "mimetype": "text/x-python",
   "name": "python",
   "nbconvert_exporter": "python",
   "pygments_lexer": "ipython3",
   "version": "3.11.9"
  }
 },
 "nbformat": 4,
 "nbformat_minor": 5
}
